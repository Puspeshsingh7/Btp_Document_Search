{
  "nbformat": 4,
  "nbformat_minor": 0,
  "metadata": {
    "colab": {
      "name": "BTP_Document_Search.ipynb",
      "provenance": [],
      "collapsed_sections": []
    },
    "kernelspec": {
      "name": "python3",
      "display_name": "Python 3"
    },
    "language_info": {
      "name": "python"
    }
  },
  "cells": [
    {
      "cell_type": "markdown",
      "metadata": {
        "id": "fwpl2GUreY2o"
      },
      "source": [
        "# **Document Search**"
      ]
    },
    {
      "cell_type": "code",
      "metadata": {
        "id": "lAJOW2BcyLVq"
      },
      "source": [
        "doc_name = \"sample.pdf\"\n",
        "doc_content = \"This is a sample text used for testing purpose\""
      ],
      "execution_count": null,
      "outputs": []
    },
    {
      "cell_type": "markdown",
      "metadata": {
        "id": "cfdPxE6-xqWq"
      },
      "source": [
        "# ***Part 1 : Generating bloom filter, Storing in MySQL, Making transaction to smart contract (By Data Owner)***\n",
        "\n"
      ]
    },
    {
      "cell_type": "code",
      "metadata": {
        "id": "fDZH5j7Xedv8",
        "colab": {
          "base_uri": "https://localhost:8080/"
        },
        "outputId": "ea2cf44d-6b60-480c-9c9f-f8b08d124ae5"
      },
      "source": [
        "# hash functions \n",
        "\n",
        "def h1(s, filterSize) :\n",
        "\n",
        "    hash = 0;\n",
        "    for i in range(len(s)) :\n",
        "        hash = hash + ord(s[i])\n",
        "        \n",
        "    hash = hash % filterSize \n",
        "    return hash\n",
        "\n",
        "def h2(s, filterSize) :\n",
        "\n",
        "    hash = 1\n",
        "    for i in range(len(s)) :\n",
        "        hash = hash + ord(s[i]) * (19**i)\n",
        "\n",
        "    hash = hash % filterSize   \n",
        "    return hash\n",
        "\n",
        "\n",
        "def h3(s, filterSize) :\n",
        "\n",
        "    hash = 7\n",
        "    for i in range(len(s)) :\n",
        "        hash = (hash * 31 + ord(s[i]))\n",
        "       \n",
        "  \n",
        "    hash = hash % filterSize \n",
        "    return hash\n",
        "\n",
        "wordList = doc_content.split()\n",
        "print(wordList)\n",
        "\n",
        "import math\n",
        "\n",
        "n = len(doc_content) - doc_content.count(\" \")  # max possible distinct trigrams\n",
        "prob = 0.1  # desired false positive probability\n",
        "m = math.ceil(-(n * math.log(prob)) / (math.log(2)*math.log(2)))  # size of bloom filter\n",
        "k = 3   # number of hash funtions \n",
        "\n",
        "bloom_filter = [0]*m\n",
        "\n",
        "def get_trigrams(s) :\n",
        "    n = len(s)\n",
        "    s = s + s + s;\n",
        "    res = []\n",
        "    for i in range(n) :\n",
        "        res.append(s[i:i+3])\n",
        "\n",
        "    return res\n",
        "\n",
        "def checkIfPresent(trigram, bloom_filter) :\n",
        "    \n",
        "    m = len(bloom_filter)\n",
        "    hash1 = h1(trigram, m)\n",
        "    hash2 = h2(trigram, m)\n",
        "    hash3 = h3(trigram, m) \n",
        "\n",
        "    if bloom_filter[hash1] == 1 and bloom_filter[hash2] == 1 and bloom_filter[hash3] == 1 :\n",
        "        return 1\n",
        "    \n",
        "    return 0\n",
        "\n",
        "def generate_bloom_filter(wordList, bloom_filter) :\n",
        "\n",
        "    m = len(bloom_filter)\n",
        "\n",
        "    for word in wordList :\n",
        "        trigramList = get_trigrams(word)\n",
        "\n",
        "        for trigram in trigramList :\n",
        "\n",
        "            var = checkIfPresent(trigram, bloom_filter)\n",
        "\n",
        "            if var == 1 :\n",
        "              continue\n",
        "\n",
        "            hash1 = h1(trigram, m)\n",
        "            hash2 = h2(trigram, m)\n",
        "            hash3 = h3(trigram, m) \n",
        "\n",
        "            bloom_filter[hash1] = 1 \n",
        "            bloom_filter[hash2] = 1\n",
        "            bloom_filter[hash3] = 1"
      ],
      "execution_count": null,
      "outputs": [
        {
          "output_type": "stream",
          "name": "stdout",
          "text": [
            "['This', 'is', 'a', 'sample', 'text', 'used', 'for', 'testing', 'purpose']\n"
          ]
        }
      ]
    },
    {
      "cell_type": "code",
      "metadata": {
        "id": "fMCAggj1u8tn"
      },
      "source": [
        "generate_bloom_filter(wordList, bloom_filter)"
      ],
      "execution_count": null,
      "outputs": []
    },
    {
      "cell_type": "code",
      "metadata": {
        "colab": {
          "base_uri": "https://localhost:8080/"
        },
        "id": "WZwgoTgZvEX2",
        "outputId": "3063b299-43e0-45d6-fc6b-fea25c63e800"
      },
      "source": [
        "# print bloom_filter contents\n",
        "\n",
        "print(\"Size of bloom filter :\", len(bloom_filter))\n",
        "\n",
        "print(\"Contents of bloom filter :\")\n",
        "for i in range(len(bloom_filter)) :\n",
        "    print(str(bloom_filter[i]) + \",\", end='')"
      ],
      "execution_count": null,
      "outputs": [
        {
          "output_type": "stream",
          "name": "stdout",
          "text": [
            "Size of bloom filter : 183\n",
            "Contents of bloom filter :\n",
            "1,1,0,0,0,0,0,0,0,1,0,1,0,1,0,0,1,1,0,1,1,0,0,0,1,1,1,0,0,0,0,0,1,0,1,0,0,0,0,0,0,1,0,0,0,0,1,0,0,0,0,1,0,0,0,0,0,0,1,0,1,1,0,0,0,0,0,0,0,0,0,1,1,0,0,0,0,1,0,1,0,1,0,0,0,0,1,0,1,0,0,0,0,1,1,0,0,0,1,0,1,0,1,0,0,0,0,0,1,0,1,0,1,0,0,0,0,1,0,1,1,1,0,0,1,0,0,0,0,0,1,0,0,1,0,1,1,1,1,0,0,1,1,1,1,1,1,1,1,1,1,1,1,1,1,1,1,0,0,1,1,1,0,1,1,0,1,0,0,1,0,0,1,1,0,1,0,0,1,0,1,1,1,"
          ]
        }
      ]
    },
    {
      "cell_type": "code",
      "metadata": {
        "colab": {
          "base_uri": "https://localhost:8080/"
        },
        "id": "Ihm3Kho7zNxQ",
        "outputId": "7cc30027-969a-4b63-fbe5-8e21e4f67e3a"
      },
      "source": [
        "!pip install cryptography\n",
        "\n",
        "# Convert to string in ascii from numeric representation of triplets\n",
        "def convert(a) :\n",
        "    l = len(a)\n",
        "    s = \"\"\n",
        "    \n",
        "    idx = 0\n",
        "    while idx < l :\n",
        "        temp = a[idx:idx+3]\n",
        "        s = s + chr(int(temp))\n",
        "        idx = idx + 3\n",
        "        \n",
        "    return s\n",
        "\n",
        "# Creating a random salt of length n\n",
        "import string\n",
        "import random\n",
        "\n",
        "def get_random_salt(n) :\n",
        "  \n",
        "    salt=\"\"\n",
        "    for i in range(n):\n",
        "        salt=salt+random.choice(string.ascii_letters)\n",
        "\n",
        "    return salt\n",
        "\n",
        "# Get a random encryption key\n",
        "from cryptography.fernet import Fernet\n",
        "\n",
        "def get_random_encryptkey() :\n",
        "\n",
        "    encrypt_key = Fernet.generate_key()\n",
        "    # fernet = Fernet(key)\n",
        "    return encrypt_key\n",
        "\n",
        "# Take XOR of string a and string b\n",
        "def XOR1(a, b) :\n",
        "    res = \"\"\n",
        "    i = 0\n",
        "    j = 0\n",
        "    \n",
        "    while (i<len(a) and j<len(b)) :\n",
        "        \n",
        "        temp = str(ord(a[i]) ^ ord(b[j])) \n",
        "        \n",
        "        if len(temp) == 1 :\n",
        "            temp = \"00\" + temp\n",
        "        elif len(temp) == 2 :\n",
        "            temp = \"0\" + temp\n",
        "        \n",
        "        res += temp\n",
        "        i = i + 1\n",
        "        j = j + 1\n",
        "    \n",
        "    while i<len(a) :\n",
        "        \n",
        "        temp = str(ord(a[i])) \n",
        "        \n",
        "        if len(temp) == 1 :\n",
        "            temp = \"00\" + temp\n",
        "        elif len(temp) == 2 :\n",
        "            temp = \"0\" + temp\n",
        "        \n",
        "        res += temp\n",
        "        i = i + 1\n",
        "        \n",
        "    while j<len(b) :\n",
        "        \n",
        "        temp = str(ord(b[j])) \n",
        "        \n",
        "        if len(temp) == 1 :\n",
        "            temp = \"00\" + temp\n",
        "        elif len(temp) == 2 :\n",
        "            temp = \"0\" + temp\n",
        "        \n",
        "        res += temp\n",
        "        j = j + 1\n",
        "        \n",
        "    return res   \n"
      ],
      "execution_count": null,
      "outputs": [
        {
          "output_type": "stream",
          "name": "stdout",
          "text": [
            "Requirement already satisfied: cryptography in /usr/local/lib/python3.7/dist-packages (36.0.0)\n",
            "Requirement already satisfied: cffi>=1.12 in /usr/local/lib/python3.7/dist-packages (from cryptography) (1.15.0)\n",
            "Requirement already satisfied: pycparser in /usr/local/lib/python3.7/dist-packages (from cffi>=1.12->cryptography) (2.21)\n"
          ]
        }
      ]
    },
    {
      "cell_type": "code",
      "metadata": {
        "id": "NRcVNA2hLsnh",
        "colab": {
          "base_uri": "https://localhost:8080/"
        },
        "outputId": "9ced5824-e65b-4676-9080-cc1237675404"
      },
      "source": [
        "pip install mysql-connector-python-rf"
      ],
      "execution_count": null,
      "outputs": [
        {
          "output_type": "stream",
          "name": "stdout",
          "text": [
            "Requirement already satisfied: mysql-connector-python-rf in /usr/local/lib/python3.7/dist-packages (2.2.2)\n"
          ]
        }
      ]
    },
    {
      "cell_type": "code",
      "metadata": {
        "colab": {
          "base_uri": "https://localhost:8080/",
          "height": 279
        },
        "id": "hO_zcGrAMT7f",
        "outputId": "29ca3aa4-0b57-4efd-f3ea-5d62cb759790"
      },
      "source": [
        "# install, set connection\n",
        "!apt-get install mysql-server > /dev/null\n",
        "!service mysql start\n",
        "!mysql -e \"ALTER USER 'root'@'localhost' IDENTIFIED WITH mysql_native_password BY 'root'\"\n",
        "!pip -q install PyMySQL\n",
        "%load_ext sql\n",
        "%config SqlMagic.feedback=False \n",
        "%config SqlMagic.autopandas=True\n",
        "%sql mysql+pymysql://root:root@/\n",
        "# query using %sql or %%sql\n",
        "df = %sql SELECT Host, User, authentication_string FROM mysql.user\n",
        "df"
      ],
      "execution_count": null,
      "outputs": [
        {
          "output_type": "stream",
          "name": "stdout",
          "text": [
            " * Starting MySQL database server mysqld\n",
            "   ...done.\n",
            "ERROR 1045 (28000): Access denied for user 'root'@'localhost' (using password: NO)\n",
            "The sql extension is already loaded. To reload it, use:\n",
            "  %reload_ext sql\n",
            " * mysql+pymysql://root:***@/\n"
          ]
        },
        {
          "output_type": "execute_result",
          "data": {
            "text/html": [
              "<div>\n",
              "<style scoped>\n",
              "    .dataframe tbody tr th:only-of-type {\n",
              "        vertical-align: middle;\n",
              "    }\n",
              "\n",
              "    .dataframe tbody tr th {\n",
              "        vertical-align: top;\n",
              "    }\n",
              "\n",
              "    .dataframe thead th {\n",
              "        text-align: right;\n",
              "    }\n",
              "</style>\n",
              "<table border=\"1\" class=\"dataframe\">\n",
              "  <thead>\n",
              "    <tr style=\"text-align: right;\">\n",
              "      <th></th>\n",
              "      <th>Host</th>\n",
              "      <th>User</th>\n",
              "      <th>authentication_string</th>\n",
              "    </tr>\n",
              "  </thead>\n",
              "  <tbody>\n",
              "    <tr>\n",
              "      <th>0</th>\n",
              "      <td>localhost</td>\n",
              "      <td>root</td>\n",
              "      <td>*81F5E21E35407D884A6CD4A731AEBFB6AF209E1B</td>\n",
              "    </tr>\n",
              "    <tr>\n",
              "      <th>1</th>\n",
              "      <td>localhost</td>\n",
              "      <td>mysql.session</td>\n",
              "      <td>*THISISNOTAVALIDPASSWORDTHATCANBEUSEDHERE</td>\n",
              "    </tr>\n",
              "    <tr>\n",
              "      <th>2</th>\n",
              "      <td>localhost</td>\n",
              "      <td>mysql.sys</td>\n",
              "      <td>*THISISNOTAVALIDPASSWORDTHATCANBEUSEDHERE</td>\n",
              "    </tr>\n",
              "    <tr>\n",
              "      <th>3</th>\n",
              "      <td>localhost</td>\n",
              "      <td>debian-sys-maint</td>\n",
              "      <td>*4B8859D18B4E30933381F26939A7AB5C094F00D2</td>\n",
              "    </tr>\n",
              "  </tbody>\n",
              "</table>\n",
              "</div>"
            ],
            "text/plain": [
              "        Host              User                      authentication_string\n",
              "0  localhost              root  *81F5E21E35407D884A6CD4A731AEBFB6AF209E1B\n",
              "1  localhost     mysql.session  *THISISNOTAVALIDPASSWORDTHATCANBEUSEDHERE\n",
              "2  localhost         mysql.sys  *THISISNOTAVALIDPASSWORDTHATCANBEUSEDHERE\n",
              "3  localhost  debian-sys-maint  *4B8859D18B4E30933381F26939A7AB5C094F00D2"
            ]
          },
          "metadata": {},
          "execution_count": 126
        }
      ]
    },
    {
      "cell_type": "code",
      "metadata": {
        "id": "eErHR4c9Lo8W"
      },
      "source": [
        "import mysql.connector\n",
        "\n",
        "mydb = mysql.connector.connect(\n",
        "  host=\"localhost\",\n",
        "  user=\"root\",\n",
        "  password=\"root\"\n",
        ")\n",
        "\n",
        "mycursor = mydb.cursor()"
      ],
      "execution_count": null,
      "outputs": []
    },
    {
      "cell_type": "code",
      "metadata": {
        "id": "YcRC25_PzCht"
      },
      "source": [
        "mycursor.execute(\"DROP DATABASE btp\")"
      ],
      "execution_count": null,
      "outputs": []
    },
    {
      "cell_type": "code",
      "metadata": {
        "id": "30CbgTJJ2FqI"
      },
      "source": [
        "mycursor.execute(\"CREATE DATABASE btp\")"
      ],
      "execution_count": null,
      "outputs": []
    },
    {
      "cell_type": "code",
      "metadata": {
        "colab": {
          "base_uri": "https://localhost:8080/"
        },
        "id": "1prgCvgm2KGm",
        "outputId": "5d0d9c09-b542-4c38-aef7-06a0a635dd2e"
      },
      "source": [
        "mycursor.execute(\"SHOW DATABASES\")\n",
        "for x in mycursor:\n",
        "  print(x)"
      ],
      "execution_count": null,
      "outputs": [
        {
          "output_type": "stream",
          "name": "stdout",
          "text": [
            "('information_schema',)\n",
            "('btp',)\n",
            "('mysql',)\n",
            "('performance_schema',)\n",
            "('sys',)\n"
          ]
        }
      ]
    },
    {
      "cell_type": "code",
      "metadata": {
        "id": "GdC1gzaL2MnT"
      },
      "source": [
        "import mysql.connector\n",
        "\n",
        "mydb = mysql.connector.connect(\n",
        "  host=\"localhost\",\n",
        "  user=\"root\",\n",
        "  password=\"root\",\n",
        "  database='btp'\n",
        ")\n",
        "\n",
        "mycursor = mydb.cursor()"
      ],
      "execution_count": null,
      "outputs": []
    },
    {
      "cell_type": "code",
      "metadata": {
        "id": "5Bek3Bq_5Ljm"
      },
      "source": [
        "mycursor.execute(\"DROP TABLE Documents\")"
      ],
      "execution_count": null,
      "outputs": []
    },
    {
      "cell_type": "code",
      "metadata": {
        "id": "iBuPqcQL4cyH"
      },
      "source": [
        "mycursor.execute(\"CREATE TABLE Documents ( doc_name VARCHAR(511), doc_content VARCHAR(64535) )\")"
      ],
      "execution_count": null,
      "outputs": []
    },
    {
      "cell_type": "code",
      "metadata": {
        "colab": {
          "base_uri": "https://localhost:8080/"
        },
        "id": "fOY1gmj89iwU",
        "outputId": "c53dadc6-74b1-4b7d-f319-8a9b88e889dd"
      },
      "source": [
        "mycursor.execute(\"SHOW TABLES\")\n",
        "for x in mycursor:\n",
        "  print(x)"
      ],
      "execution_count": null,
      "outputs": [
        {
          "output_type": "stream",
          "name": "stdout",
          "text": [
            "('Documents',)\n"
          ]
        }
      ]
    },
    {
      "cell_type": "code",
      "metadata": {
        "id": "50J81ctszf6-"
      },
      "source": [
        "def store_data(doc_name, doc_content) : \n",
        "\n",
        "    # insert data query \n",
        "    insert_query = \"INSERT INTO Documents (doc_name, doc_content) VALUES (%s, %s)\"\n",
        "   \n",
        "    encrypt_key = get_random_encryptkey();\n",
        "    fernet = Fernet(encrypt_key)\n",
        "\n",
        "    encrypted_name = fernet.encrypt(doc_name.encode('utf-8'))\n",
        "    salt = get_random_salt(len(encrypted_name))\n",
        "    encrypted_name_with_salt = XOR1(str(encrypted_name),salt)\n",
        "\n",
        "    encrypted_content = fernet.encrypt(doc_content.encode('utf-8'))\n",
        "    encrypted_content_with_salt = XOR1(str(encrypted_content),salt)\n",
        "\n",
        "    encrypted_data = (encrypted_name_with_salt, encrypted_content_with_salt)\n",
        "    mycursor.execute(insert_query, encrypted_data)\n",
        "    mydb.commit()\n",
        "\n",
        "    \n",
        "    print(\"Document Name : \", doc_name)\n",
        "\n",
        "    print(\"Encryption Key :\", encrypt_key)\n",
        "\n",
        "    print(\"Salt : \", salt)\n",
        "    \n",
        "    print(\"Encryted Document Name : \", encrypted_name)"
      ],
      "execution_count": null,
      "outputs": []
    },
    {
      "cell_type": "code",
      "metadata": {
        "id": "k46fzYOrKOsU"
      },
      "source": [
        "store_data(doc_name, doc_content)"
      ],
      "execution_count": null,
      "outputs": []
    },
    {
      "cell_type": "code",
      "metadata": {
        "id": "7OjGdqweHNNz",
        "colab": {
          "base_uri": "https://localhost:8080/"
        },
        "outputId": "6e640dba-266a-44c8-df5e-30e428d41c82"
      },
      "source": [
        "# print bloom_filter contents\n",
        "\n",
        "print(\"Size of bloom filter :\", len(bloom_filter))\n",
        "\n",
        "print(\"Contents of bloom filter :\")\n",
        "for i in range(len(bloom_filter)) :\n",
        "    print(str(bloom_filter[i]) + \",\", end='')"
      ],
      "execution_count": null,
      "outputs": [
        {
          "output_type": "stream",
          "name": "stdout",
          "text": [
            "Size of bloom filter : 183\n",
            "Contents of bloom filter :\n",
            "1,1,0,0,0,0,0,0,0,1,0,1,0,1,0,0,1,1,0,1,1,0,0,0,1,1,1,0,0,0,0,0,1,0,1,0,0,0,0,0,0,1,0,0,0,0,1,0,0,0,0,1,0,0,0,0,0,0,1,0,1,1,0,0,0,0,0,0,0,0,0,1,1,0,0,0,0,1,0,1,0,1,0,0,0,0,1,0,1,0,0,0,0,1,1,0,0,0,1,0,1,0,1,0,0,0,0,0,1,0,1,0,1,0,0,0,0,1,0,1,1,1,0,0,1,0,0,0,0,0,1,0,0,1,0,1,1,1,1,0,0,1,1,1,1,1,1,1,1,1,1,1,1,1,1,1,1,0,0,1,1,1,0,1,1,0,1,0,0,1,0,0,1,1,0,1,0,0,1,0,1,1,1,"
          ]
        }
      ]
    },
    {
      "cell_type": "code",
      "metadata": {
        "colab": {
          "base_uri": "https://localhost:8080/"
        },
        "id": "032uStMx9mU7",
        "outputId": "b5039ca6-8106-402e-8ce3-afad77edd7cf"
      },
      "source": [
        "mycursor.execute(\"SELECT * from Documents\")\n",
        "for x in mycursor:\n",
        "  print(x)"
      ],
      "execution_count": null,
      "outputs": [
        {
          "output_type": "stream",
          "name": "stdout",
          "text": [
            "('010106014010043059049054053005018115010043054018015050006040061011093032046022036058041062050002046057103002052062043095044047059030018050025004014063059004036026042047017092038050039010041053058124054007045041001027007028002037000006003029023032081024063004011004021028039015019069031008006062021061061061039', '010106014010043059049054053005018115010043005018006024044021021054023024046085001095041020017004118022045007040027000080054006038032104023014057060058087025009011044052027092044009003083062006070015058063028029043039043023073124021029031107101058084028102032006018000056016082069049002008052063042032107108086103066054112111073050077077106071077090105055068056084102118076102105082070110085099084116054067055053045090069090066039')\n"
          ]
        }
      ]
    },
    {
      "cell_type": "markdown",
      "metadata": {
        "id": "T0stlPMjKb9I"
      },
      "source": [
        "# **Part 2 : Query Doc Content from MySQL after getting salt from smart contract (By Data User)**"
      ]
    },
    {
      "cell_type": "code",
      "metadata": {
        "colab": {
          "base_uri": "https://localhost:8080/"
        },
        "id": "MNJt_3XZKasS",
        "outputId": "c75993d2-dd5f-4d4c-80a9-973d64410684"
      },
      "source": [
        "\n",
        "# Get from result of store_data \n",
        "key1 = b'W3bCm68BGlUGnTuxkZJvLVBlY0FUn3NhqXkivTC1QB4='\n",
        "EncDoc_name = \"b'gAAAAABhp7aIWSGHAEIx3pJqFRxHKGaN2dlOF9X_pUHuxEmqTprXEZg5SClmdWO4otEyiNtMrmeTDEEu2liSCbxvOkf2gPuMrQ=='\"\n",
        "salt = \"hMiKjzpwwmbDkbaAHzGmtsnPdgbhQvyEOwUfXqmftpKKZGaAcNotVBouviuqKgMbuHYshPhUsQpHeRGXRUctVWHfmjhduwxXssgl\" \n",
        "\n",
        "fernet1=Fernet(key1)\n",
        "\n",
        "Idd=(XOR1(salt,EncDoc_name), )\n",
        "\n",
        "\n",
        "query = \"SELECT doc_content from Documents where doc_name= %s\"\n",
        "mycursor.execute(query,Idd)\n",
        "res=\"\"\n",
        "for x in mycursor:\n",
        "  #print(x)\n",
        "  res=x\n",
        "\n",
        "Encrypted_res=XOR1(convert(res[0]),salt)\n",
        "#print(Encrypted_res)\n",
        "#print(type(res[0]))\n",
        "\n",
        "temp=convert(Encrypted_res)\n",
        "print(temp)\n",
        "s1=temp[1:len(temp)]\n",
        "decMessage = fernet1.decrypt(s1.encode('utf-8')).decode()\n",
        "\n",
        "print(\"\\n\\nDecrypted string: \", decMessage)"
      ],
      "execution_count": null,
      "outputs": [
        {
          "output_type": "stream",
          "name": "stdout",
          "text": [
            "b'gAAAAABhp7aIdSNbkxaEyHJ2c7xbhA9axapjm6Bvmk2Pox_t8m_ICAm5YxH4sd3GcLtMCrXF94pOX37o7h0wNtmRx60FzPGLMLklVgB6poI2MMjGMZi7D8TfvLfiRFnUcTt6C75-ZEZB'\n",
            "\n",
            "\n",
            "Decrypted string:  This is a sample text used for testing purpose\n"
          ]
        }
      ]
    }
  ]
}